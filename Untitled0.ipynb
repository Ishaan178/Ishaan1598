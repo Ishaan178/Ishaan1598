{
  "nbformat": 4,
  "nbformat_minor": 0,
  "metadata": {
    "colab": {
      "provenance": [],
      "authorship_tag": "ABX9TyNtvLvwddhlj5p7JbXPSDPW",
      "include_colab_link": true
    },
    "kernelspec": {
      "name": "python3",
      "display_name": "Python 3"
    },
    "language_info": {
      "name": "python"
    }
  },
  "cells": [
    {
      "cell_type": "markdown",
      "metadata": {
        "id": "view-in-github",
        "colab_type": "text"
      },
      "source": [
        "<a href=\"https://colab.research.google.com/github/Ishaan178/Ishaan1598/blob/main/Untitled0.ipynb\" target=\"_parent\"><img src=\"https://colab.research.google.com/assets/colab-badge.svg\" alt=\"Open In Colab\"/></a>"
      ]
    },
    {
      "cell_type": "code",
      "execution_count": null,
      "metadata": {
        "id": "I4-jYxUIfcd0"
      },
      "outputs": [],
      "source": [
        "#include<iostream>\n",
        "using namspace std;\n",
        "int main(){\n",
        "    cout<<\"ishaan rai\";\n",
        "    return 0;\n",
        "}"
      ]
    }
  ]
}