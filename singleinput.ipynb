{
  "nbformat": 4,
  "nbformat_minor": 0,
  "metadata": {
    "colab": {
      "provenance": [],
      "authorship_tag": "ABX9TyNqrBZN/Zgu6MfaTXdw9ePA",
      "include_colab_link": true
    },
    "kernelspec": {
      "name": "python3",
      "display_name": "Python 3"
    },
    "language_info": {
      "name": "python"
    }
  },
  "cells": [
    {
      "cell_type": "markdown",
      "metadata": {
        "id": "view-in-github",
        "colab_type": "text"
      },
      "source": [
        "<a href=\"https://colab.research.google.com/github/Ishaan178/Ishaan1598/blob/main/singleinput.ipynb\" target=\"_parent\"><img src=\"https://colab.research.google.com/assets/colab-badge.svg\" alt=\"Open In Colab\"/></a>"
      ]
    },
    {
      "cell_type": "code",
      "execution_count": 4,
      "metadata": {
        "colab": {
          "base_uri": "https://localhost:8080/"
        },
        "id": "Atq52tUcwEHI",
        "outputId": "701ecd5e-02ff-48b6-c182-ecbb4a93900c"
      },
      "outputs": [
        {
          "output_type": "stream",
          "name": "stdout",
          "text": [
            "\n",
            "Using the formula:\n",
            "w = (0.5 * t^2 - 0.2 * h - 15) / 0.9\n",
            "File input -> Temperature: 100.0, Humidity: 80.0, Weather Index: 5521.11\n"
          ]
        }
      ],
      "source": [
        "#single input\n",
        "def calculate_weather_index(t, h):\n",
        "    return (0.5 * t**2 - 0.2 * h - 15) / 0.9\n",
        "\n",
        "filename = 'single_input_weather.txt'\n",
        "\n",
        "try:\n",
        "    with open(filename, 'r') as file:\n",
        "        line = file.readline().strip()\n",
        "        t, h = map(float, line.split())\n",
        "        w = calculate_weather_index(t, h)\n",
        "        print(\"\\nUsing the formula:\")\n",
        "        print(\"w = (0.5 * t^2 - 0.2 * h - 15) / 0.9\")\n",
        "        print(f\"File input -> Temperature: {t}, Humidity: {h}, Weather Index: {w:.2f}\")\n",
        "except Exception as e:\n",
        "    print(f\"Error reading the file: {e}\")\n"
      ]
    }
  ]
}